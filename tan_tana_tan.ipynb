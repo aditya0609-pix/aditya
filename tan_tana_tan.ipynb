{
  "nbformat": 4,
  "nbformat_minor": 0,
  "metadata": {
    "colab": {
      "name": "tan tana tan",
      "provenance": [],
      "collapsed_sections": [],
      "authorship_tag": "ABX9TyO3Wnw03dd/fpAjGxsfBSwT",
      "include_colab_link": true
    },
    "kernelspec": {
      "name": "python3",
      "display_name": "Python 3"
    }
  },
  "cells": [
    {
      "cell_type": "markdown",
      "metadata": {
        "id": "view-in-github",
        "colab_type": "text"
      },
      "source": [
        "<a href=\"https://colab.research.google.com/github/aditya0609-pix/aditya/blob/master/tan_tana_tan.ipynb\" target=\"_parent\"><img src=\"https://colab.research.google.com/assets/colab-badge.svg\" alt=\"Open In Colab\"/></a>"
      ]
    },
    {
      "cell_type": "code",
      "metadata": {
        "colab": {
          "base_uri": "https://localhost:8080/"
        },
        "id": "XCbkWy-GOBE2",
        "outputId": "00682865-c03c-4815-8575-ad7b5a2d93f6"
      },
      "source": [
        "import random\n",
        "attempts_list = []\n",
        "def show_score():\n",
        "    if len(attempts_list) <= 0:\n",
        "        print(\"There is currently no high score, so hi noob!\")\n",
        "    else:\n",
        "        print(\"The current high score is {} attempts\".format(min(attempts_list)))\n",
        "def start_game():\n",
        "    random_number = int(random.randint(1, 10))\n",
        "    print(\"Hey superstar! Welcome to the game of guesses!\")\n",
        "    player_name = input(\"your name?\")\n",
        "    wanna_play = input(\"hi {}, so let's start ? (Enter Yes/No) \".format(player_name))\n",
        "    attempts = 0\n",
        "    show_score()\n",
        "    while wanna_play.lower() == \"yes\":\n",
        "        try:\n",
        "            guess = input(\"Pick a number between 1 and 10 \")\n",
        "            if int(guess) < 1 or int(guess) > 10:\n",
        "                raise ValueError(\"dude guess a number within the given range\")\n",
        "            if int(guess) == random_number:\n",
        "                print(\"excellent!!\")\n",
        "                attempts += 1\n",
        "                attempts_list.append(attempts)\n",
        "                print(\"dude it took you {} attempts\".format(attempts))\n",
        "                play_again = input(\"wanna try again ? (Enter Yes/No) \")\n",
        "                attempts = 0\n",
        "                show_score()\n",
        "                random_number = int(random.randint(1, 10))\n",
        "                if play_again.lower() == \"no\":\n",
        "                    print(\"that's cool have a nice day\")\n",
        "                    break\n",
        "            elif int(guess) > random_number:\n",
        "                print(\"little lower\")\n",
        "                attempts += 1\n",
        "            elif int(guess) < random_number:\n",
        "                print(\"little higher\")\n",
        "                attempts += 1\n",
        "        except ValueError as err:\n",
        "            print(\"oops! that's an error\")\n",
        "            print(\"({})\".format(err))\n",
        "    else:\n",
        "        print(\"way to go {} !\".format(player_name))\n",
        "if __name__ == '__main__':\n",
        "    start_game()"
      ],
      "execution_count": 2,
      "outputs": [
        {
          "output_type": "stream",
          "text": [
            "Hey superstar! Welcome to the game of guesses!\n",
            "your name?ramya\n",
            "hi ramya, so let's start ? (Enter Yes/No) yes\n",
            "There is currently no high score, so hi noob!\n",
            "Pick a number between 1 and 10 8\n",
            "little lower\n",
            "Pick a number between 1 and 10 6\n",
            "little lower\n",
            "Pick a number between 1 and 10 4\n",
            "little lower\n",
            "Pick a number between 1 and 10 2\n",
            "little higher\n",
            "Pick a number between 1 and 10 3\n",
            "excellent!!\n",
            "dude it took you 5 attempts\n",
            "wanna try again ? (Enter Yes/No) no\n",
            "The current high score is 5 attempts\n",
            "that's cool have a nice day\n"
          ],
          "name": "stdout"
        }
      ]
    }
  ]
}